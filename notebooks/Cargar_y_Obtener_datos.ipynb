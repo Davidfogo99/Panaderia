{
 "cells": [
  {
   "cell_type": "markdown",
   "id": "c3628aa1",
   "metadata": {},
   "source": [
    "# Carga de datos de \"Panaderia Salvador\"\n",
    "Lo que vamos a hacer ahora es subir los datos que tenemos (Excels) a nuestra base de datos y las combertiremos en tablas."
   ]
  },
  {
   "cell_type": "markdown",
   "id": "d1797c0e",
   "metadata": {},
   "source": [
    "!INCISOS SOBRE ALGUNAS COSAS QUE NO SE UTILIZAN COMO LOS PROFESORES\n",
    "\n",
    "#### ¿SQLAlchemy o mysql.connector?\n",
    "Los 2 son validos, mysql.connector es mas basico sobretodo si se quiere hacer consultas, pero SQLAlchemy se integra mejor con pandas y, por lo que he leido, es mas comodo para hacer los analisis. (Simplemente por probar algo que funciona igual pero que tiene otras ventajas)"
   ]
  },
  {
   "cell_type": "markdown",
   "id": "4ff1f1dc",
   "metadata": {},
   "source": [
    "### 1 - Importaremos librerias y añadiremos los datos para la conexión"
   ]
  },
  {
   "cell_type": "code",
   "execution_count": 2,
   "id": "7e3a06aa",
   "metadata": {},
   "outputs": [],
   "source": [
    "import xlrd # Libreria para leer archivos Excel\n",
    "from sqlalchemy import create_engine, text # Libreria para la conexión a la base de datos \n",
    "import pandas as pd # Libreria para manipulación de los datos\n",
    "\n",
    "# datos de conexión\n",
    "host = \"database-1.cjyy8w6ya3fr.eu-north-1.rds.amazonaws.com\"\n",
    "port = 3306 # puerto por defecto en MySQL\n",
    "user = \"usuario1\"\n",
    "password = \"C0d35p4ce.\"\n",
    "nombre_base_datos = \"sandbox\"\n"
   ]
  },
  {
   "cell_type": "markdown",
   "id": "806ba0da",
   "metadata": {},
   "source": [
    "### Creamos engine de conexión a la base de datos MySQL"
   ]
  },
  {
   "cell_type": "code",
   "execution_count": 3,
   "id": "ae7014d9",
   "metadata": {},
   "outputs": [],
   "source": [
    "# Crear engine de conexión a la base de datos MySQL\n",
    "engine = create_engine(f\"mysql+pymysql://{user}:{password}@{host}:{port}/{nombre_base_datos}\")"
   ]
  },
  {
   "cell_type": "code",
   "execution_count": 17,
   "id": "1ec6f51c",
   "metadata": {},
   "outputs": [
    {
     "name": "stdout",
     "output_type": "stream",
     "text": [
      "✅ Conexión exitosa a MySQL\n"
     ]
    }
   ],
   "source": [
    "# Con este codigo verificamos que se haya hecho bien la conexión\n",
    "try:\n",
    "    with engine.connect() as connection:\n",
    "        result = connection.execute(text(\"SELECT 1\"))\n",
    "        print(\"✅ Conexión exitosa a MySQL\")\n",
    "except Exception as e:\n",
    "    print(\"❌ Error al conectar:\", e)"
   ]
  },
  {
   "cell_type": "markdown",
   "id": "59198f60",
   "metadata": {},
   "source": [
    "### Leemos los archivos Excel y los subimos a nuestra base de datos como tablas\n"
   ]
  },
  {
   "cell_type": "code",
   "execution_count": null,
   "id": "931a338f",
   "metadata": {},
   "outputs": [
    {
     "data": {
      "text/plain": [
       "218"
      ]
     },
     "execution_count": 18,
     "metadata": {},
     "output_type": "execute_result"
    }
   ],
   "source": [
    "# Con pandas, leemos los archivos excel con su ruta y lo guardamos en un dataframe\n",
    "df_pedidos_excel = pd.read_excel(\"../data/CantidadPedida.xlsx\")          # Pedidos\n",
    "df_ventas_excel = pd.read_excel(\"../data/ArticulosPanaderia.xlsx\")       # Catálogo de productos\n",
    "df_calendario_excel = pd.read_excel(\"../data/Calendario.xlsx\")           # Calendario\n",
    "\n",
    "# Leemos el archivo de ventas y lo transformamos\n",
    "df_pedidos_excel.to_sql(\"dfg_pedidos\", con=engine, if_exists=\"replace\", index=False)\n",
    "df_ventas_excel.to_sql(\"dfg_ventas\", con=engine, if_exists=\"replace\", index=False)\n",
    "df_calendario_excel.to_sql(\"dfg_calendario\", con=engine, if_exists=\"replace\", index=False)"
   ]
  },
  {
   "cell_type": "markdown",
   "id": "70cc2d55",
   "metadata": {},
   "source": [
    "### Ver si se pueden hacer llamadas a la base de datos y guardarlas en dataframes\n",
    "(aun que ya tengamos dataframes de los excels, es para ver si se pueden guardar esas tablas desde la base de datos)"
   ]
  },
  {
   "cell_type": "code",
   "execution_count": null,
   "id": "36a5b872",
   "metadata": {},
   "outputs": [
    {
     "name": "stdout",
     "output_type": "stream",
     "text": [
      "📦 Primeras filas de dfg_pedidos:\n",
      "     Familia    Tipo      Fecha  Articulo  Cantidad  Precio  Importe\n",
      "0  PANADERIA  PEDIDO 2017-09-18       417      42.0    3.75    157.5\n",
      "1  PANADERIA  PEDIDO 2017-09-18       498      75.0    3.90    292.5\n",
      "2  PANADERIA  PEDIDO 2017-09-18       854     360.0    0.45    162.0\n",
      "3  PANADERIA  PEDIDO 2017-09-18       900     240.0    0.90    216.0\n",
      "4  PANADERIA  PEDIDO 2017-09-18       918      30.0    1.20     36.0\n",
      "----------------------------------------------\n",
      "📦 Primeras filas de dfg_ventas:\n",
      "    FAMILIA   Tipo FechaVenta  HoraVenta  Articulo  Cantidad  Precio  Importe\n",
      "0  BOLLERIA  VENTA 2017-01-01          8      5820       3.0   4.091   12.273\n",
      "1  BOLLERIA  VENTA 2017-01-01          9      3880      12.0   2.182   26.184\n",
      "2  BOLLERIA  VENTA 2017-01-01          9      3894       6.0   3.000   18.000\n",
      "3  BOLLERIA  VENTA 2017-01-01          9      3960      21.0   1.773   37.233\n",
      "4  BOLLERIA  VENTA 2017-01-01          9      3974      15.0   3.273   49.095\n",
      "----------------------------------------------\n",
      "📦 Primeras filas de dfg_calendario:\n",
      "       Fecha              Festivo\n",
      "0 2017-01-01            Año Nuevo\n",
      "1 2017-01-06         Día de Reyes\n",
      "2 2017-02-14  Día de San Valentín\n",
      "3 2017-03-19        Día del Padre\n",
      "4 2017-04-09     Domingo de Ramos\n",
      "----------------------------------------------\n"
     ]
    }
   ],
   "source": [
    "df_pedidos = pd.read_sql(\"SELECT * FROM dfg_pedidos LIMIT 5\", con=engine)\n",
    "df_ventas = pd.read_sql(\"SELECT * FROM dfg_ventas LIMIT 5\", con=engine)\n",
    "df_calendario = pd.read_sql(\"SELECT * FROM dfg_calendario LIMIT 5\", con=engine)\n",
    "\n",
    "# Mostrar resultados\n",
    "print(\"📦 Primeras filas de dfg_pedidos:\")\n",
    "print(df_pedidos)\n",
    "print(\"----------------------------------------------\")\n",
    "print(\"📦 Primeras filas de dfg_ventas:\")\n",
    "print(df_ventas)\n",
    "print(\"----------------------------------------------\")\n",
    "print(\"📦 Primeras filas de dfg_calendario:\")\n",
    "print(df_calendario)\n",
    "print(\"----------------------------------------------\")\n",
    "\n"
   ]
  },
  {
   "cell_type": "code",
   "execution_count": 8,
   "id": "ad811634",
   "metadata": {},
   "outputs": [
    {
     "data": {
      "text/html": [
       "<div>\n",
       "<style scoped>\n",
       "    .dataframe tbody tr th:only-of-type {\n",
       "        vertical-align: middle;\n",
       "    }\n",
       "\n",
       "    .dataframe tbody tr th {\n",
       "        vertical-align: top;\n",
       "    }\n",
       "\n",
       "    .dataframe thead th {\n",
       "        text-align: right;\n",
       "    }\n",
       "</style>\n",
       "<table border=\"1\" class=\"dataframe\">\n",
       "  <thead>\n",
       "    <tr style=\"text-align: right;\">\n",
       "      <th></th>\n",
       "      <th>FAMILIA</th>\n",
       "      <th>Tipo</th>\n",
       "      <th>FechaVenta</th>\n",
       "      <th>HoraVenta</th>\n",
       "      <th>Articulo</th>\n",
       "      <th>Cantidad</th>\n",
       "      <th>Precio</th>\n",
       "      <th>Importe</th>\n",
       "    </tr>\n",
       "  </thead>\n",
       "  <tbody>\n",
       "    <tr>\n",
       "      <th>0</th>\n",
       "      <td>BOLLERIA</td>\n",
       "      <td>VENTA</td>\n",
       "      <td>2017-01-01</td>\n",
       "      <td>9</td>\n",
       "      <td>3960</td>\n",
       "      <td>21.0</td>\n",
       "      <td>1.773</td>\n",
       "      <td>37.233</td>\n",
       "    </tr>\n",
       "    <tr>\n",
       "      <th>1</th>\n",
       "      <td>BOLLERIA</td>\n",
       "      <td>VENTA</td>\n",
       "      <td>2017-01-01</td>\n",
       "      <td>10</td>\n",
       "      <td>3960</td>\n",
       "      <td>105.0</td>\n",
       "      <td>1.773</td>\n",
       "      <td>186.165</td>\n",
       "    </tr>\n",
       "    <tr>\n",
       "      <th>2</th>\n",
       "      <td>BOLLERIA</td>\n",
       "      <td>VENTA</td>\n",
       "      <td>2017-01-01</td>\n",
       "      <td>16</td>\n",
       "      <td>3960</td>\n",
       "      <td>6.0</td>\n",
       "      <td>1.773</td>\n",
       "      <td>10.638</td>\n",
       "    </tr>\n",
       "    <tr>\n",
       "      <th>3</th>\n",
       "      <td>BOLLERIA</td>\n",
       "      <td>VENTA</td>\n",
       "      <td>2017-01-02</td>\n",
       "      <td>9</td>\n",
       "      <td>3960</td>\n",
       "      <td>21.0</td>\n",
       "      <td>1.773</td>\n",
       "      <td>37.233</td>\n",
       "    </tr>\n",
       "    <tr>\n",
       "      <th>4</th>\n",
       "      <td>BOLLERIA</td>\n",
       "      <td>VENTA</td>\n",
       "      <td>2017-01-02</td>\n",
       "      <td>10</td>\n",
       "      <td>3960</td>\n",
       "      <td>30.0</td>\n",
       "      <td>1.773</td>\n",
       "      <td>53.190</td>\n",
       "    </tr>\n",
       "    <tr>\n",
       "      <th>...</th>\n",
       "      <td>...</td>\n",
       "      <td>...</td>\n",
       "      <td>...</td>\n",
       "      <td>...</td>\n",
       "      <td>...</td>\n",
       "      <td>...</td>\n",
       "      <td>...</td>\n",
       "      <td>...</td>\n",
       "    </tr>\n",
       "    <tr>\n",
       "      <th>25066</th>\n",
       "      <td>BOLLERIA</td>\n",
       "      <td>VENTA</td>\n",
       "      <td>2023-05-18</td>\n",
       "      <td>16</td>\n",
       "      <td>3960</td>\n",
       "      <td>6.0</td>\n",
       "      <td>3.273</td>\n",
       "      <td>19.638</td>\n",
       "    </tr>\n",
       "    <tr>\n",
       "      <th>25067</th>\n",
       "      <td>BOLLERIA</td>\n",
       "      <td>VENTA</td>\n",
       "      <td>2023-05-18</td>\n",
       "      <td>17</td>\n",
       "      <td>3960</td>\n",
       "      <td>9.0</td>\n",
       "      <td>3.273</td>\n",
       "      <td>29.457</td>\n",
       "    </tr>\n",
       "    <tr>\n",
       "      <th>25068</th>\n",
       "      <td>BOLLERIA</td>\n",
       "      <td>VENTA</td>\n",
       "      <td>2023-05-18</td>\n",
       "      <td>18</td>\n",
       "      <td>3960</td>\n",
       "      <td>12.0</td>\n",
       "      <td>3.273</td>\n",
       "      <td>39.276</td>\n",
       "    </tr>\n",
       "    <tr>\n",
       "      <th>25069</th>\n",
       "      <td>BOLLERIA</td>\n",
       "      <td>VENTA</td>\n",
       "      <td>2023-05-18</td>\n",
       "      <td>19</td>\n",
       "      <td>3960</td>\n",
       "      <td>12.0</td>\n",
       "      <td>3.273</td>\n",
       "      <td>39.276</td>\n",
       "    </tr>\n",
       "    <tr>\n",
       "      <th>25070</th>\n",
       "      <td>BOLLERIA</td>\n",
       "      <td>VENTA</td>\n",
       "      <td>2023-05-18</td>\n",
       "      <td>20</td>\n",
       "      <td>3960</td>\n",
       "      <td>27.0</td>\n",
       "      <td>3.273</td>\n",
       "      <td>88.371</td>\n",
       "    </tr>\n",
       "  </tbody>\n",
       "</table>\n",
       "<p>25071 rows × 8 columns</p>\n",
       "</div>"
      ],
      "text/plain": [
       "        FAMILIA   Tipo FechaVenta  HoraVenta  Articulo  Cantidad  Precio  \\\n",
       "0      BOLLERIA  VENTA 2017-01-01          9      3960      21.0   1.773   \n",
       "1      BOLLERIA  VENTA 2017-01-01         10      3960     105.0   1.773   \n",
       "2      BOLLERIA  VENTA 2017-01-01         16      3960       6.0   1.773   \n",
       "3      BOLLERIA  VENTA 2017-01-02          9      3960      21.0   1.773   \n",
       "4      BOLLERIA  VENTA 2017-01-02         10      3960      30.0   1.773   \n",
       "...         ...    ...        ...        ...       ...       ...     ...   \n",
       "25066  BOLLERIA  VENTA 2023-05-18         16      3960       6.0   3.273   \n",
       "25067  BOLLERIA  VENTA 2023-05-18         17      3960       9.0   3.273   \n",
       "25068  BOLLERIA  VENTA 2023-05-18         18      3960      12.0   3.273   \n",
       "25069  BOLLERIA  VENTA 2023-05-18         19      3960      12.0   3.273   \n",
       "25070  BOLLERIA  VENTA 2023-05-18         20      3960      27.0   3.273   \n",
       "\n",
       "       Importe  \n",
       "0       37.233  \n",
       "1      186.165  \n",
       "2       10.638  \n",
       "3       37.233  \n",
       "4       53.190  \n",
       "...        ...  \n",
       "25066   19.638  \n",
       "25067   29.457  \n",
       "25068   39.276  \n",
       "25069   39.276  \n",
       "25070   88.371  \n",
       "\n",
       "[25071 rows x 8 columns]"
      ]
     },
     "execution_count": 8,
     "metadata": {},
     "output_type": "execute_result"
    }
   ],
   "source": [
    "query = \"SELECT * FROM dfg_ventas WHERE ARTICULO = '3960'\"\n",
    "\n",
    "# Consultar la query anterior y devolverla como un dataframe de Pandas\n",
    "ventas = pd.read_sql(query, con=engine)\n",
    "\n",
    "ventas"
   ]
  }
 ],
 "metadata": {
  "kernelspec": {
   "display_name": "venv",
   "language": "python",
   "name": "python3"
  },
  "language_info": {
   "codemirror_mode": {
    "name": "ipython",
    "version": 3
   },
   "file_extension": ".py",
   "mimetype": "text/x-python",
   "name": "python",
   "nbconvert_exporter": "python",
   "pygments_lexer": "ipython3",
   "version": "3.12.11"
  }
 },
 "nbformat": 4,
 "nbformat_minor": 5
}
